{
 "cells": [
  {
   "cell_type": "code",
   "execution_count": 12,
   "metadata": {},
   "outputs": [
    {
     "name": "stderr",
     "output_type": "stream",
     "text": [
      "[2018-04-01 21:32:19,940] Current training label is y_run_time_1000. Fetching training and testing set...\n",
      "[2018-04-01 21:32:40,185] Stored datasets found...\n",
      "[2018-04-01 21:32:41,780] Training: 2000-01-08 10:00:00 -> 2014-07-27 13:10:00\n",
      "[2018-04-01 21:32:41,783] Testing: 2014-07-27 13:20:00 -> 2016-11-19 13:35:00\n",
      "[2018-04-01 21:32:41,785] Validation: 2016-11-19 13:45:00 -> 2018-02-18 16:25:00\n",
      "[2018-04-01 21:32:44,958] Transforming training and testing set...\n"
     ]
    }
   ],
   "source": [
    "import os\n",
    "import sys\n",
    "sys.path.append(os.path.abspath(os.path.join(os.path.dirname(os.getcwd()), '..\\..')))\n",
    "\n",
    "# import tensorflow as tf\n",
    "\n",
    "from analysis.predictive.rnn_model.pipeline import load_data, transform_dataset, get_matrix_combination\n",
    "from analysis.predictive.rnn_model.settings import TRAINING_LABEL, logger\n",
    "\n",
    "CONFIG = {\n",
    "    # Dataset related\n",
    "    'file_name': 'race_record_first_included',\n",
    "    'target_column': TRAINING_LABEL,\n",
    "    \n",
    "    # Construction phase related\n",
    "    'max_length': 20,\n",
    "    'n_steps': 20,\n",
    "    'n_inputs': 215 if TRAINING_LABEL == 'y_run_time_1000' else 214,\n",
    "    'n_neurons': 100,\n",
    "    'n_outputs': 1,\n",
    "    'learning_rate': 0.001,\n",
    "\n",
    "    # Execution phase related\n",
    "    'n_epochs': 100,\n",
    "    'batch_size': 150\n",
    "}\n",
    "\n",
    "# DATA PREPARATION =============================================================================================\n",
    "\n",
    "# Get configuration\n",
    "max_length = CONFIG['max_length']\n",
    "\n",
    "# Get training and testing set\n",
    "logger.warning('Current training label is {}. Fetching training and testing set...'.format(TRAINING_LABEL))\n",
    "train, test, validation = load_data(file_name=CONFIG['file_name'])\n",
    "\n",
    "# Get X, y, mapping series of training and testing set\n",
    "logger.warning('Transforming training and testing set...')\n",
    "train_transformed = transform_dataset(train, target_column=CONFIG['target_column'])\n",
    "test_transformed = transform_dataset(test, target_column=CONFIG['target_column'])"
   ]
  },
  {
   "cell_type": "code",
   "execution_count": 15,
   "metadata": {},
   "outputs": [
    {
     "name": "stderr",
     "output_type": "stream",
     "text": [
      "[2018-04-01 21:33:46,270] Getting matrix representation of training and testing set...\n"
     ]
    }
   ],
   "source": [
    "# Get matrix transformation\n",
    "logger.warning('Getting matrix representation of training and testing set...')\n",
    "for key in train_transformed.keys():\n",
    "    curr_series = train_transformed[key]\n",
    "    if curr_series is not None:\n",
    "        train_transformed[key] = get_matrix_combination(curr_series, max_length=max_length)\n",
    "for key in test_transformed.keys():\n",
    "    curr_series = test_transformed[key]\n",
    "    if curr_series is not None:\n",
    "        test_transformed[key] = get_matrix_combination(curr_series, max_length=max_length)\n",
    "\n",
    "# Assign the variables\n",
    "train_X = train_transformed['X']['transformed']\n",
    "train_y = train_transformed['y']['transformed']\n",
    "train_mapped = train_transformed['mapped']\n",
    "if train_mapped is not None:\n",
    "    train_mapped = train_transformed['mapped']['transformed']\n",
    "train_seq_length = train_transformed['X']['length']\n",
    "\n",
    "test_X = test_transformed['X']['transformed']\n",
    "test_y = test_transformed['y']['transformed']\n",
    "test_mapped = test_transformed['mapped']\n",
    "if test_mapped is not None:\n",
    "    test_mapped = test_transformed['mapped']['transformed']\n",
    "test_seq_length = test_transformed['X']['length']"
   ]
  },
  {
   "cell_type": "code",
   "execution_count": 18,
   "metadata": {},
   "outputs": [
    {
     "data": {
      "text/plain": [
       "(54067, 20, 215)"
      ]
     },
     "execution_count": 18,
     "metadata": {},
     "output_type": "execute_result"
    }
   ],
   "source": [
    "train_X.shape"
   ]
  }
 ],
 "metadata": {
  "kernelspec": {
   "display_name": "Python 3",
   "language": "python",
   "name": "python3"
  },
  "language_info": {
   "codemirror_mode": {
    "name": "ipython",
    "version": 3
   },
   "file_extension": ".py",
   "mimetype": "text/x-python",
   "name": "python",
   "nbconvert_exporter": "python",
   "pygments_lexer": "ipython3",
   "version": "3.5.4"
  }
 },
 "nbformat": 4,
 "nbformat_minor": 2
}
