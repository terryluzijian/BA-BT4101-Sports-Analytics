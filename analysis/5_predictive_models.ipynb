{
 "cells": [
  {
   "cell_type": "code",
   "execution_count": null,
   "metadata": {
    "collapsed": false
   },
   "outputs": [],
   "source": [
    "import pandas as pd\n",
    "from sklearn import svm\n",
    "from sklearn.model_selection import train_test_split\n",
    "\n",
    "new_df_first = pd.read_csv('data/new_df_first.csv', encoding='utf-8', index_col=0)\n",
    "X_first = new_df_first.loc[:, new_df_first.columns != 'run_time_1000']\n",
    "y_first = new_df_first.loc[:, 'run_time_1000']\n",
    "\n",
    "X_train, X_test, y_train, y_test = train_test_split(X_first, y_first)\n",
    "\n",
    "clf = svm.SVR(cache_size=1000, C=1e3)\n",
    "clf.fit(X_train, y_train)"
   ]
  }
 ],
 "metadata": {
  "kernelspec": {
   "display_name": "Python 3",
   "language": "python",
   "name": "python3"
  },
  "language_info": {
   "codemirror_mode": {
    "name": "ipython",
    "version": 3
   },
   "file_extension": ".py",
   "mimetype": "text/x-python",
   "name": "python",
   "nbconvert_exporter": "python",
   "pygments_lexer": "ipython3",
   "version": "3.6.0"
  }
 },
 "nbformat": 4,
 "nbformat_minor": 2
}
