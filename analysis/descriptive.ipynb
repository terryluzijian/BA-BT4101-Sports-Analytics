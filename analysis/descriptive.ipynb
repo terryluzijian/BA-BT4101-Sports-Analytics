{
 "cells": [
  {
   "cell_type": "markdown",
   "metadata": {},
   "source": [
    "## 2. Descriptive Analysis\n",
    "For descriptive analysis, predominantly Pandas is used for data transformation, in conjunction with some useful visualization libraries, which help understanding of the obtained data."
   ]
  },
  {
   "cell_type": "code",
   "execution_count": null,
   "metadata": {
    "collapsed": false
   },
   "outputs": [],
   "source": [
    "import matplotlib\n",
    "import matplotlib.pyplot as plt\n",
    "import pandas as pd\n",
    "import re\n",
    "import seaborn\n",
    "\n",
    "# Set some specs for plotting\n",
    "%matplotlib inline\n",
    "matplotlib.rcParams['figure.figsize'] = (16.0, 12.0)\n",
    "matplotlib.style.use('ggplot')\n",
    "\n",
    "# Read data from the data folder\n",
    "race_df = pd.read_csv('data/race.csv', low_memory=False, index_col=0)\n",
    "horse_df = pd.read_csv('data/horse.csv', low_memory=False, index_col=0)\n",
    "individual_df = pd.read_csv('data/individual.csv', low_memory=False, index_col=0)\n",
    "trainer_df = pd.read_csv('data/trainer.csv', low_memory=False, index_col=0)\n",
    "jockey_df = pd.read_csv('data/jockey.csv', low_memory=False, index_col=0)"
   ]
  },
  {
   "cell_type": "markdown",
   "metadata": {},
   "source": [
    "## 2.1 Race Related Analysis"
   ]
  },
  {
   "cell_type": "code",
   "execution_count": null,
   "metadata": {
    "collapsed": false
   },
   "outputs": [],
   "source": [
    "import matplotlib.pyplot as plt\n",
    "import seaborn\n",
    "\n",
    "seaborn.barplot(x=race_df['distance'].apply(lambda x: re.search(r'(\\d+)m', x).group(0)).value_counts()[:10].index,\n",
    "                y=race_df['distance'].apply(lambda x: re.search(r'(\\d+)m', x).group(0)).value_counts()[:10],\n",
    "                color='#103942')"
   ]
  },
  {
   "cell_type": "code",
   "execution_count": null,
   "metadata": {
    "collapsed": true
   },
   "outputs": [],
   "source": []
  }
 ],
 "metadata": {
  "kernelspec": {
   "display_name": "Python 3",
   "language": "python",
   "name": "python3"
  },
  "language_info": {
   "codemirror_mode": {
    "name": "ipython",
    "version": 3
   },
   "file_extension": ".py",
   "mimetype": "text/x-python",
   "name": "python",
   "nbconvert_exporter": "python",
   "pygments_lexer": "ipython3",
   "version": "3.6.0"
  }
 },
 "nbformat": 4,
 "nbformat_minor": 2
}
