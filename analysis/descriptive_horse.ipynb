{
 "cells": [
  {
   "cell_type": "code",
   "execution_count": null,
   "metadata": {
    "collapsed": true
   },
   "outputs": [],
   "source": [
    "import matplotlib as mpl\n",
    "import matplotlib.pyplot as plt\n",
    "import numpy as np\n",
    "import pandas as pd\n",
    "import seaborn as sns\n",
    "\n",
    "\n",
    "# Set some specs for plotting\n",
    "%matplotlib inline\n",
    "mpl.rcParams['figure.figsize'] = (16.0, 8.0)\n",
    "mpl.style.use('ggplot')\n",
    "plt.rcParams['font.family'] = 'IPAGothic'\n",
    "\n",
    "# Read data from the data folder\n",
    "race_df = pd.read_csv('data/race.csv', low_memory=False, index_col=0)\n",
    "horse_df = pd.read_csv('data/horse.csv', low_memory=False, index_col=0)\n",
    "individual_df = pd.read_csv('data/individual.csv', low_memory=False, index_col=0)\n",
    "trainer_df = pd.read_csv('data/trainer.csv', low_memory=False, index_col=0)\n",
    "jockey_df = pd.read_csv('data/jockey.csv', low_memory=False, index_col=0)"
   ]
  }
 ],
 "metadata": {
  "kernelspec": {
   "display_name": "Python 3",
   "language": "python",
   "name": "python3"
  },
  "language_info": {
   "codemirror_mode": {
    "name": "ipython",
    "version": 3
   },
   "file_extension": ".py",
   "mimetype": "text/x-python",
   "name": "python",
   "nbconvert_exporter": "python",
   "pygments_lexer": "ipython3",
   "version": "3.6.0"
  }
 },
 "nbformat": 4,
 "nbformat_minor": 2
}
