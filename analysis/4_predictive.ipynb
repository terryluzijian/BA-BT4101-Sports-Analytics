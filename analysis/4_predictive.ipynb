{
 "cells": [
  {
   "cell_type": "markdown",
   "metadata": {},
   "source": [
    "## 4. Predictive Analysis "
   ]
  },
  {
   "cell_type": "code",
   "execution_count": 1,
   "metadata": {
    "collapsed": false
   },
   "outputs": [],
   "source": [
    "import matplotlib as mpl\n",
    "import matplotlib.pyplot as plt\n",
    "import numpy as np\n",
    "import pandas as pd\n",
    "import re\n",
    "import seaborn as sns\n",
    "import statsmodels.api as sm\n",
    "\n",
    "def get_dummies_order_by_count(df, column_name):\n",
    "    # Get dummies by descending count order\n",
    "    return pd.get_dummies(df[column_name]).reindex_axis(df[column_name].value_counts().index, axis=1).iloc[:, :-1]\n",
    "\n",
    "# Set some specs for plotting\n",
    "%matplotlib inline\n",
    "mpl.rcParams['figure.figsize'] = (16.0, 8.0)\n",
    "mpl.style.use('ggplot')\n",
    "plt.rcParams['font.family'] = 'IPAGothic'\n",
    "\n",
    "# Read data from the data folder\n",
    "race_df = pd.read_csv('data/race.csv', low_memory=False, index_col=0)\n",
    "horse_df = pd.read_csv('data/horse.csv', low_memory=False, index_col=0)\n",
    "individual_df = pd.read_csv('data/individual.csv', low_memory=False, index_col=0)\n",
    "trainer_df = pd.read_csv('data/trainer.csv', low_memory=False, index_col=0)\n",
    "jockey_df = pd.read_csv('data/jockey.csv', low_memory=False, index_col=0)\n",
    "horse_race_df = pd.read_csv('data/horse_race.csv', low_memory=False, index_col=0)\n",
    "horse_race_df['age_int'] = horse_race_df['sex_age'].apply(lambda x: re.search(r'\\d+', x).group(0)).astype(int)\n",
    "\n",
    "# Do some simple data transformation\n",
    "try:\n",
    "    first_occur_df = pd.read_csv('data/first_occurence_race.csv', low_memory=False, index_col=0)\n",
    "except FileNotFoundError:\n",
    "    horse_race_sorted = horse_race_df.sort_values(['horse_id', 'run_date'])\n",
    "    horse_id_set = set()\n",
    "    first_occur_dict = {}\n",
    "    for index, value in horse_race_sorted.iterrows():\n",
    "        if value['horse_id'] not in horse_id_set:\n",
    "            horse_id_set.add(value['horse_id'])\n",
    "            first_occur_dict[index] = value\n",
    "    first_occur_df = pd.DataFrame.from_dict(first_occur_dict, orient='index')\n",
    "    first_occur_df.to_csv('data/first_occurence_race.csv', encoding='utf-8')\n",
    "    \n",
    "columns_to_drop = [\n",
    "    # TODO: Update columns to drop when breeder id is available\n",
    "    'run_date', 'race', 'title', 'horse', 'sex_age',\n",
    "    'distance', 'run_time',\n",
    "    'jockey', 'margin', 'trainer_x', 'trainer_y', 'owner_x', 'owner_y', 'horse_name', 'date_of_birth', \n",
    "    'transaction_price', 'prize_obtained', 'race_record', 'highlight_race', 'relatives', 'status', 'prize'\n",
    "]\n",
    "for column in columns_to_drop:\n",
    "    try:\n",
    "        first_occur_df.drop(column, axis=1, inplace=True)\n",
    "        horse_race_df.drop(column, axis=1, inplace=True)\n",
    "    except ValueError:\n",
    "        continue"
   ]
  },
  {
   "cell_type": "markdown",
   "metadata": {},
   "source": [
    "## 4.1 Feature Engineering "
   ]
  },
  {
   "cell_type": "code",
   "execution_count": 2,
   "metadata": {
    "collapsed": false,
    "scrolled": false
   },
   "outputs": [],
   "source": [
    "first_occur_df_copy = first_occur_df.copy()\n",
    "dummied_cols = ['place', 'type', 'track', 'weather', 'condition', 'gender', 'breed', 'bracket', 'horse_number']\n",
    "for cols in dummied_cols:\n",
    "    first_occur_df_copy = first_occur_df_copy.join(get_dummies_order_by_count(first_occur_df_copy, \n",
    "                                                   cols).rename(columns=lambda x: '-'.join([cols, str(x)])))\n",
    "    try:\n",
    "        first_occur_df_copy.drop(cols, axis=1, inplace=True)\n",
    "    except ValueError:\n",
    "        continue\n",
    "first_occur_df_copy['horse_weight'] = first_occur_df_copy['horse_weight'].apply(lambda x: re.search(r'(\\d+)\\(.+\\)', x).group(1))\n",
    "first_occur_df_copy['horse_weight'] = first_occur_df_copy['horse_weight'].astype(float)\n",
    "columns_to_drop_first = ['time', 'finishing_position', 'corner_position', 'run_time_last_600', \n",
    "                         'horse_id', 'jockey_id', 'owner_id', 'trainer_id', 'breeder', \n",
    "                         'place_of_birth', 'parents']\n",
    "for cols in columns_to_drop_first:\n",
    "    try:\n",
    "        first_occur_df_copy.drop(cols, axis=1, inplace=True)\n",
    "    except ValueError:\n",
    "        continue"
   ]
  },
  {
   "cell_type": "markdown",
   "metadata": {},
   "source": [
    "## 4.2 Regression Models"
   ]
  },
  {
   "cell_type": "code",
   "execution_count": 3,
   "metadata": {
    "collapsed": false
   },
   "outputs": [
    {
     "name": "stdout",
     "output_type": "stream",
     "text": [
      "                            OLS Regression Results                            \n",
      "==============================================================================\n",
      "Dep. Variable:          run_time_1000   R-squared:                       0.507\n",
      "Model:                            OLS   Adj. R-squared:                  0.507\n",
      "Method:                 Least Squares   F-statistic:                     1485.\n",
      "Date:                Wed, 21 Feb 2018   Prob (F-statistic):               0.00\n",
      "Time:                        21:50:17   Log-Likelihood:            -1.7305e+05\n",
      "No. Observations:               86528   AIC:                         3.462e+05\n",
      "Df Residuals:                   86467   BIC:                         3.468e+05\n",
      "Df Model:                          60                                         \n",
      "Covariance Type:            nonrobust                                         \n",
      "===================================================================================\n",
      "                      coef    std err          t      P>|t|      [0.025      0.975]\n",
      "-----------------------------------------------------------------------------------\n",
      "const              43.8712      0.437    100.464      0.000      43.015      44.727\n",
      "jockey_weight       0.0194      0.005      3.696      0.000       0.009       0.030\n",
      "win_odds            0.0009   8.11e-05     11.507      0.000       0.001       0.001\n",
      "win_fav             0.0931      0.002     43.746      0.000       0.089       0.097\n",
      "horse_weight        0.0049      0.000     21.770      0.000       0.004       0.005\n",
      "curr_age           -0.9043      0.018    -51.587      0.000      -0.939      -0.870\n",
      "age_int             0.3735      0.016     23.728      0.000       0.343       0.404\n",
      "place-中山            0.4575      0.035     13.024      0.000       0.389       0.526\n",
      "place-東京           -0.7031      0.098     -7.172      0.000      -0.895      -0.511\n",
      "place-京都           -0.2262      0.035     -6.419      0.000      -0.295      -0.157\n",
      "place-阪神           -0.0667      0.036     -1.880      0.060      -0.136       0.003\n",
      "place-新潟           -0.6969      0.099     -7.047      0.000      -0.891      -0.503\n",
      "place-小倉           -0.5022      0.037    -13.454      0.000      -0.575      -0.429\n",
      "place-福島            0.1120      0.038      2.984      0.003       0.038       0.186\n",
      "place-中京           -0.5025      0.099     -5.057      0.000      -0.697      -0.308\n",
      "place-札幌           -0.0623      0.042     -1.499      0.134      -0.144       0.019\n",
      "type-ダ             12.6245      0.150     84.118      0.000      12.330      12.919\n",
      "type-芝             10.0591      0.150     67.241      0.000       9.766      10.352\n",
      "track-右             2.7185      0.114     23.886      0.000       2.495       2.942\n",
      "track-左             3.3613      0.068     49.754      0.000       3.229       3.494\n",
      "track-芝            21.1877      0.160    132.018      0.000      20.873      21.502\n",
      "weather-晴          -0.6924      0.206     -3.368      0.001      -1.095      -0.290\n",
      "weather-曇          -0.7511      0.206     -3.651      0.000      -1.154      -0.348\n",
      "weather-雨          -0.4148      0.207     -2.003      0.045      -0.821      -0.009\n",
      "weather-小雨         -0.6298      0.208     -3.030      0.002      -1.037      -0.222\n",
      "weather-小雪         -0.7606      0.282     -2.700      0.007      -1.313      -0.209\n",
      "condition-良         0.1065      0.031      3.458      0.001       0.046       0.167\n",
      "condition-稍重        0.2749      0.033      8.345      0.000       0.210       0.339\n",
      "condition-重         0.0653      0.036      1.809      0.070      -0.005       0.136\n",
      "gender-牡           -0.0480      0.031     -1.563      0.118      -0.108       0.012\n",
      "gender-牝           -0.2379      0.033     -7.303      0.000      -0.302      -0.174\n",
      "breed-鹿毛           -0.2408      0.422     -0.571      0.568      -1.068       0.586\n",
      "breed-栗毛           -0.2984      0.422     -0.707      0.479      -1.125       0.529\n",
      "breed-黒鹿毛          -0.2044      0.422     -0.484      0.628      -1.031       0.623\n",
      "breed-芦毛           -0.2836      0.422     -0.671      0.502      -1.112       0.544\n",
      "breed-青鹿毛          -0.1976      0.422     -0.468      0.640      -1.026       0.630\n",
      "breed-青毛           -0.1594      0.425     -0.375      0.708      -0.993       0.674\n",
      "breed-栃栗毛          -0.1466      0.430     -0.341      0.733      -0.990       0.697\n",
      "bracket-8           2.3924      0.074     32.485      0.000       2.248       2.537\n",
      "bracket-7           2.0967      0.071     29.638      0.000       1.958       2.235\n",
      "bracket-6           1.8036      0.068     26.431      0.000       1.670       1.937\n",
      "bracket-5           1.5973      0.066     24.254      0.000       1.468       1.726\n",
      "bracket-4           1.2706      0.062     20.453      0.000       1.149       1.392\n",
      "bracket-3           0.9848      0.058     16.868      0.000       0.870       1.099\n",
      "bracket-2           0.5259      0.047     11.284      0.000       0.435       0.617\n",
      "horse_number-4      2.0396      0.093     22.048      0.000       1.858       2.221\n",
      "horse_number-5      1.7452      0.090     19.399      0.000       1.569       1.921\n",
      "horse_number-2      2.6374      0.101     26.020      0.000       2.439       2.836\n",
      "horse_number-6      1.6391      0.089     18.456      0.000       1.465       1.813\n",
      "horse_number-8      1.3923      0.086     16.112      0.000       1.223       1.562\n",
      "horse_number-1      2.9117      0.110     26.452      0.000       2.696       3.127\n",
      "horse_number-7      1.4797      0.087     16.937      0.000       1.309       1.651\n",
      "horse_number-3      2.1827      0.095     23.043      0.000       1.997       2.368\n",
      "horse_number-9      1.1530      0.085     13.495      0.000       0.986       1.321\n",
      "horse_number-10     1.0741      0.085     12.657      0.000       0.908       1.240\n",
      "horse_number-11     0.9024      0.084     10.686      0.000       0.737       1.068\n",
      "horse_number-12     0.8219      0.084      9.764      0.000       0.657       0.987\n",
      "horse_number-13     0.6947      0.084      8.281      0.000       0.530       0.859\n",
      "horse_number-14     0.6042      0.084      7.196      0.000       0.440       0.769\n",
      "horse_number-15     0.4053      0.082      4.915      0.000       0.244       0.567\n",
      "horse_number-16     0.2545      0.084      3.044      0.002       0.091       0.418\n",
      "horse_number-17     0.0467      0.104      0.450      0.653      -0.157       0.250\n",
      "==============================================================================\n",
      "Omnibus:                    27502.660   Durbin-Watson:                   1.786\n",
      "Prob(Omnibus):                  0.000   Jarque-Bera (JB):           482498.921\n",
      "Skew:                           1.075   Prob(JB):                         0.00\n",
      "Kurtosis:                      14.367   Cond. No.                     4.00e+15\n",
      "==============================================================================\n",
      "\n",
      "Warnings:\n",
      "[1] Standard Errors assume that the covariance matrix of the errors is correctly specified.\n",
      "[2] The smallest eigenvalue is 1.24e-21. This might indicate that there are\n",
      "strong multicollinearity problems or that the design matrix is singular.\n"
     ]
    }
   ],
   "source": [
    "X = first_occur_df_copy.loc[:, first_occur_df_copy.columns != 'run_time_1000']\n",
    "y = first_occur_df_copy.loc[:, 'run_time_1000']\n",
    "X = sm.add_constant(X)\n",
    "results = sm.OLS(y, X).fit()\n",
    "print(results.summary())"
   ]
  },
  {
   "cell_type": "markdown",
   "metadata": {},
   "source": [
    "## Some EDA to be integrated into descriptive analysis notebook "
   ]
  }
 ],
 "metadata": {
  "kernelspec": {
   "display_name": "Python 3",
   "language": "python",
   "name": "python3"
  },
  "language_info": {
   "codemirror_mode": {
    "name": "ipython",
    "version": 3
   },
   "file_extension": ".py",
   "mimetype": "text/x-python",
   "name": "python",
   "nbconvert_exporter": "python",
   "pygments_lexer": "ipython3",
   "version": "3.6.0"
  }
 },
 "nbformat": 4,
 "nbformat_minor": 2
}
